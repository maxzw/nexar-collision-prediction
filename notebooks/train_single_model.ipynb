{
 "cells": [
  {
   "cell_type": "code",
   "execution_count": null,
   "metadata": {},
   "outputs": [],
   "source": [
    "import numpy as np\n",
    "import pandas as pd\n",
    "import torch\n",
    "import torchvision.transforms as T\n",
    "import wandb\n",
    "from pytorch_lightning import Trainer, seed_everything\n",
    "from pytorch_lightning.callbacks import EarlyStopping, ModelCheckpoint\n",
    "from pytorch_lightning.loggers import WandbLogger\n",
    "from torch.utils.data import DataLoader\n",
    "from tqdm import tqdm\n",
    "\n",
    "from nexar.data import NexarDataModule, NexarDataset, pad_to_square\n",
    "from nexar.model import NexarClassifier\n"
   ]
  },
  {
   "cell_type": "code",
   "execution_count": null,
   "metadata": {},
   "outputs": [],
   "source": [
    "# Set seed for reproducibility\n",
    "SEED = None"
   ]
  },
  {
   "cell_type": "markdown",
   "metadata": {},
   "source": [
    "### Train"
   ]
  },
  {
   "cell_type": "code",
   "execution_count": null,
   "metadata": {},
   "outputs": [],
   "source": [
    "random_seed = SEED or np.random.randint(0, 1e6)\n",
    "seed_everything(random_seed, workers=True)\n",
    "\n",
    "# Initialize trainin data module\n",
    "train_df = pd.read_parquet(\"../data/processed/train.parquet\")\n",
    "datamodule = NexarDataModule(\n",
    "    train_df=train_df,\n",
    "    batch_size=32,\n",
    "    val_size=0.1,\n",
    "    transform=T.Compose([\n",
    "        T.Lambda(pad_to_square),\n",
    "        T.Normalize(mean=[0.485, 0.456, 0.406], std=[0.229, 0.224, 0.225]),\n",
    "        T.RandomHorizontalFlip(),\n",
    "        T.RandomAffine(degrees=2, translate=(0.05, 0.05), scale=(0.95, 1.05), shear=2),\n",
    "    ]),\n",
    "    test_transform=T.Compose([\n",
    "        T.Lambda(pad_to_square),\n",
    "        T.Normalize(mean=[0.485, 0.456, 0.406], std=[0.229, 0.224, 0.225]),\n",
    "    ]),\n",
    ")\n",
    "\n",
    "# Initialize model\n",
    "model = NexarClassifier(lr=1e-3)\n",
    "\n",
    "# Initialize trainer\n",
    "trainer = Trainer(\n",
    "    max_epochs=20,\n",
    "    logger=WandbLogger(project=\"nexar-collision-prediction\", save_dir=\"../logs\"),\n",
    "    callbacks=[\n",
    "        ModelCheckpoint(monitor=\"val_acc\", mode=\"max\", save_top_k=1, filename=\"{epoch:02d}-{val_acc:.2f}\"),\n",
    "        EarlyStopping(monitor=\"val_acc\", mode=\"max\", patience=8, verbose=True),\n",
    "    ],\n",
    "    deterministic=True,\n",
    ")\n",
    "\n",
    "# Log seed\n",
    "trainer.logger.experiment.config.update({\"seed\": random_seed})\n",
    "\n",
    "# Train the model\n",
    "trainer.fit(model, datamodule=datamodule)\n",
    "wandb.finish()\n"
   ]
  },
  {
   "cell_type": "markdown",
   "metadata": {},
   "source": [
    "### Predict"
   ]
  },
  {
   "cell_type": "code",
   "execution_count": 17,
   "metadata": {},
   "outputs": [
    {
     "name": "stdout",
     "output_type": "stream",
     "text": [
      "Using device: mps\n"
     ]
    }
   ],
   "source": [
    "device = torch.device(\n",
    "    \"cuda\" if torch.cuda.is_available()\n",
    "    else \"mps\" if torch.backends.mps.is_available()\n",
    "    else \"cpu\"\n",
    ")\n",
    "print(f\"Using device: {device}\")"
   ]
  },
  {
   "cell_type": "code",
   "execution_count": null,
   "metadata": {},
   "outputs": [
    {
     "name": "stdout",
     "output_type": "stream",
     "text": [
      "Best model path: ../logs/nexar-collision-prediction/39exxit9/checkpoints/epoch=17-val_acc=0.79.ckpt\n",
      "Best model id: 39exxit9\n"
     ]
    }
   ],
   "source": [
    "# Load the best model\n",
    "best_model_path = trainer.checkpoint_callback.best_model_path\n",
    "best_model = NexarClassifier.load_from_checkpoint(best_model_path)\n",
    "best_model.to(device)\n",
    "best_model.eval()\n",
    "best_model_id = best_model_path.split(\"/\")[3]\n",
    "\n",
    "print(f\"Best model path: {best_model_path}\")\n",
    "print(f\"Best model id: {best_model_id}\")\n"
   ]
  },
  {
   "cell_type": "code",
   "execution_count": 19,
   "metadata": {},
   "outputs": [
    {
     "name": "stderr",
     "output_type": "stream",
     "text": [
      "100%|██████████| 21/21 [01:25<00:00,  4.09s/it]\n",
      "100%|██████████| 21/21 [01:17<00:00,  3.69s/it]\n",
      "100%|██████████| 21/21 [01:21<00:00,  3.90s/it]\n"
     ]
    },
    {
     "data": {
      "text/html": [
       "<div>\n",
       "<style scoped>\n",
       "    .dataframe tbody tr th:only-of-type {\n",
       "        vertical-align: middle;\n",
       "    }\n",
       "\n",
       "    .dataframe tbody tr th {\n",
       "        vertical-align: top;\n",
       "    }\n",
       "\n",
       "    .dataframe thead th {\n",
       "        text-align: right;\n",
       "    }\n",
       "</style>\n",
       "<table border=\"1\" class=\"dataframe\">\n",
       "  <thead>\n",
       "    <tr style=\"text-align: right;\">\n",
       "      <th></th>\n",
       "      <th>id</th>\n",
       "      <th>target</th>\n",
       "    </tr>\n",
       "  </thead>\n",
       "  <tbody>\n",
       "    <tr>\n",
       "      <th>0</th>\n",
       "      <td>00204</td>\n",
       "      <td>0.253067</td>\n",
       "    </tr>\n",
       "    <tr>\n",
       "      <th>1</th>\n",
       "      <td>00030</td>\n",
       "      <td>0.886701</td>\n",
       "    </tr>\n",
       "    <tr>\n",
       "      <th>2</th>\n",
       "      <td>00146</td>\n",
       "      <td>0.917146</td>\n",
       "    </tr>\n",
       "    <tr>\n",
       "      <th>3</th>\n",
       "      <td>00020</td>\n",
       "      <td>0.226513</td>\n",
       "    </tr>\n",
       "    <tr>\n",
       "      <th>4</th>\n",
       "      <td>00511</td>\n",
       "      <td>0.991201</td>\n",
       "    </tr>\n",
       "  </tbody>\n",
       "</table>\n",
       "</div>"
      ],
      "text/plain": [
       "      id    target\n",
       "0  00204  0.253067\n",
       "1  00030  0.886701\n",
       "2  00146  0.917146\n",
       "3  00020  0.226513\n",
       "4  00511  0.991201"
      ]
     },
     "execution_count": 19,
     "metadata": {},
     "output_type": "execute_result"
    }
   ],
   "source": [
    "test_df = pd.read_parquet(\"../data/processed/test.parquet\")\n",
    "\n",
    "predictions = {}\n",
    "indices = [0, 1, 2]\n",
    "weights = [0.2, 0.3, 0.5]\n",
    "\n",
    "# Get predictions for each frame\n",
    "for frame_idx in indices:\n",
    "    test_dataset = NexarDataset(\n",
    "        test_df, \n",
    "        frame_idx=frame_idx, \n",
    "        return_label=False, \n",
    "        transform=datamodule.test_transform,\n",
    "    )\n",
    "    test_dataloader = DataLoader(test_dataset, batch_size=64, shuffle=False, drop_last=False)\n",
    "    \n",
    "    preds = []\n",
    "    for batch in tqdm(test_dataloader):\n",
    "        batch = {k: v.to(best_model.device) if isinstance(v, torch.Tensor) else v for k, v in batch.items()}\n",
    "        with torch.no_grad():\n",
    "            pred = best_model(batch)\n",
    "        pred = torch.sigmoid(pred).squeeze().detach().tolist()\n",
    "        preds.extend(pred)\n",
    "    \n",
    "    predictions[frame_idx] = preds\n",
    "\n",
    "# Take weighted average of predictions\n",
    "final_predictions = np.zeros(len(test_df))\n",
    "for i, frame_idx in enumerate(indices):\n",
    "    final_predictions += np.array(predictions[frame_idx]) * weights[i]\n",
    "final_predictions = final_predictions / sum(weights)\n",
    "\n",
    "# Save predictions\n",
    "submission_df = pd.DataFrame({\"id\": test_df[\"id\"].apply(lambda x: str(x).zfill(5)), \"target\": final_predictions})\n",
    "submission_df.to_csv(f\"../data/processed/submission_{best_model_id}.csv\", index=False)\n",
    "submission_df.head()\n"
   ]
  }
 ],
 "metadata": {
  "kernelspec": {
   "display_name": "nexar",
   "language": "python",
   "name": "python3"
  },
  "language_info": {
   "codemirror_mode": {
    "name": "ipython",
    "version": 3
   },
   "file_extension": ".py",
   "mimetype": "text/x-python",
   "name": "python",
   "nbconvert_exporter": "python",
   "pygments_lexer": "ipython3",
   "version": "3.10.16"
  }
 },
 "nbformat": 4,
 "nbformat_minor": 2
}
